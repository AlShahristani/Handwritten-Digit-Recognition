{
 "cells": [
  {
   "cell_type": "code",
   "execution_count": null,
   "metadata": {},
   "outputs": [],
   "source": [
    "# This porject was developed through following the youtube tutroial provided by NeuralNine at: 'https://youtu.be/vBlO87ZAiiw?si=CvjeWbPVdDf4YlJI'\n",
    "\n",
    "\n",
    "\n",
    "\n",
    "from torchvision import datasets\n",
    "from torchvision.transforms import ToTensor"
   ]
  },
  {
   "cell_type": "code",
   "execution_count": null,
   "metadata": {},
   "outputs": [],
   "source": [
    "#Set up training data in tensor form\n",
    "train_data = datasets.MNIST(\n",
    "    root = 'data',\n",
    "    train = True,\n",
    "    transform= ToTensor(),\n",
    "    download= True\n",
    ")\n",
    "\n",
    "#Set up testing data in tensor form\n",
    "test_data = datasets.MNIST(\n",
    "    root = 'data',\n",
    "    train = False,\n",
    "    transform= ToTensor(),\n",
    "    download= True\n",
    ")"
   ]
  },
  {
   "cell_type": "code",
   "execution_count": null,
   "metadata": {},
   "outputs": [],
   "source": [
    "from torch.utils.data import DataLoader\n",
    "\n",
    "#Define data loaders for both the testing and training set\n",
    "loaders = {\n",
    "    'train' : DataLoader(train_data,\n",
    "                         batch_size=100,\n",
    "                         shuffle=True,\n",
    "                         num_workers=1),\n",
    "    'test': DataLoader(test_data,\n",
    "                       batch_size=100,\n",
    "                       shuffle=True,\n",
    "                       num_workers=1),\n",
    "}"
   ]
  },
  {
   "cell_type": "code",
   "execution_count": null,
   "metadata": {},
   "outputs": [],
   "source": [
    "import torch.nn as nn\n",
    "import torch.nn.functional as F\n",
    "import torch.optim as optim\n",
    "\n",
    "class CNN(nn.Module): #Define model class which inherits from pytorch nn class\n",
    "    def __init__(self):\n",
    "        super(CNN, self).__init__()\n",
    "\n",
    "        self.conv1 = nn.Conv2d(1, 10, kernel_size=5) #Create convolutional layer to take 1 input and output 10 \n",
    "        self.conv2 = nn.Conv2d(10, 20, kernel_size=5) #Create convolutional layer to take 10  input and output 20 \n",
    "        self.conv2_drop = nn.Dropout2d() #Create dropout layer\n",
    "        self.fc1 = nn.Linear(320, 50) #Create fully connected layer to take 320  inputs and output 50 \n",
    "        self.fc2 = nn.Linear(50, 10) #Create fully connected layer to take 50 inputs and output 10\n",
    "\n",
    "    def forward(self, x): #Define the network's forward pass\n",
    "        x = F.relu(F.max_pool2d(self.conv1(x), 2)) #Pass input through first layer with a pooling stride of 2\n",
    "        x = F.relu(F.max_pool2d(self.conv2_drop(self.conv2(x)), 2)) #Pass output from first layer to the second layer (which is also a dropout layer) with a pooling stride of 2\n",
    "        x = x.view(-1, 320) #Flatten output from previous layer\n",
    "        x = F.relu(self.fc1(x)) #Pass flattened output to fully connected layer\n",
    "        x = F.dropout(x, training=self.training) #Dropout connections\n",
    "        x = self.fc2(x) #Pass output to second fully connected layer\n",
    "\n",
    "        return F.softmax(x) #Return probability distribution of outputs"
   ]
  },
  {
   "cell_type": "code",
   "execution_count": null,
   "metadata": {},
   "outputs": [],
   "source": [
    "import torch\n",
    "\n",
    "device = torch.device('cuda')\n",
    "\n",
    "model = CNN().to(device) #Create model on GPU\n",
    "\n",
    "optimizer = optim.Adam(model.parameters(), lr=0.001) #Define optimizer\n",
    "\n",
    "loss_fn = nn.CrossEntropyLoss() #Define loss function\n",
    "\n",
    "def train(epoch):\n",
    "    model.train() #Set model to training mode\n",
    "    for batch_idx, (data, target) in enumerate(loaders['train']): #Loop through all training data\n",
    "        data, target = data.to(device), target.to(device)\n",
    "        optimizer.zero_grad() #Reset optimizer gradient to deal with new loop\n",
    "        output = model(data) #Get the output of the model\n",
    "        loss = loss_fn(output, target) #Calculate the loss based on this output and expected output\n",
    "        loss.backward() #Apply backprobagation to calculate new gradients\n",
    "        optimizer.step()\n",
    "\n",
    "        if batch_idx % 20 == 0:\n",
    "            #Print Progress\n",
    "            print(f\"Train Epoch: {epoch} [{batch_idx * len(data)}/{len(loaders['train'].dataset)} ({100. * batch_idx / len(loaders['train']):.0f}%)]\\t{loss.item():.6f}\")\n",
    "\n",
    "def test():\n",
    "    model.eval() #Set model to testing/evaluation mode\n",
    "\n",
    "    test_loss = 0\n",
    "    correct = 0\n",
    "\n",
    "    with torch.no_grad(): #Disable gradient calculations for this stage\n",
    "        for data, target in loaders['test']: #Loop through all testing data\n",
    "            data, target = data.to(device), target.to(device)\n",
    "            output = model(data) #Get the output of the model\n",
    "            test_loss += loss_fn(output, target).item() #Add the loss of the particular case to total loss\n",
    "            pred = output.argmax(dim=1, keepdim=True) #Make the prediction the output with greatest probability\n",
    "            correct += pred.eq(target.view_as(pred)).sum().item() #If prediction is correct then add 1 to number of correct predictions\n",
    "\n",
    "    test_loss /= len(loaders['test'].dataset) #Calculate average loss\n",
    "    #Print progress\n",
    "    print(f\"\\nTest set: Average loss: {test_loss:.4f}, Accurace {correct}/{len(loaders['test'].dataset)} ({100.*correct/len(loaders['test'].dataset):.0f}%\\n)\")\n",
    "    "
   ]
  },
  {
   "cell_type": "code",
   "execution_count": null,
   "metadata": {},
   "outputs": [],
   "source": [
    "#Train and test model 10 times\n",
    "for epoch in range(1, 11):\n",
    "    train(epoch)\n",
    "    test()"
   ]
  },
  {
   "cell_type": "code",
   "execution_count": null,
   "metadata": {},
   "outputs": [],
   "source": [
    "import matplotlib.pyplot as plt\n",
    "\n",
    "#Try out model on arbitrary datapoints inside dataset\n",
    "\n",
    "model.eval()\n",
    "data, target = test_data[16]\n",
    "data = data.unsqueeze(0).to(device)\n",
    "\n",
    "output = model(data)\n",
    "prediction = output.argmax(dim=1, keepdim = True).item()\n",
    "\n",
    "print(f\"Prediction: {prediction}\")\n",
    "\n",
    "image = data.squeeze(0).squeeze(0).cpu().numpy()\n",
    "\n",
    "plt.imshow(image, cmap ='gray')\n",
    "plt.show"
   ]
  }
 ],
 "metadata": {
  "kernelspec": {
   "display_name": "base",
   "language": "python",
   "name": "python3"
  },
  "language_info": {
   "codemirror_mode": {
    "name": "ipython",
    "version": 3
   },
   "file_extension": ".py",
   "mimetype": "text/x-python",
   "name": "python",
   "nbconvert_exporter": "python",
   "pygments_lexer": "ipython3",
   "version": "3.11.5"
  },
  "orig_nbformat": 4,
  "vscode": {
   "interpreter": {
    "hash": "1694be2d520f8c0afab967d0d0c7dd67f9f2764fc40bb6fb75c192b0d0c5a906"
   }
  }
 },
 "nbformat": 4,
 "nbformat_minor": 2
}
